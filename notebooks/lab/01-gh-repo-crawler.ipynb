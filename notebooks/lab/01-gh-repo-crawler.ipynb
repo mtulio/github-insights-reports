{
 "cells": [
  {
   "cell_type": "markdown",
   "metadata": {},
   "source": [
    "# Github lab\n",
    "\n",
    "This project (lab):\n",
    "- https://github.com/mtulio/github-insights-reports\n",
    "\n",
    "Doc ref:\n",
    "- https://docs.github.com/en/rest/reference/pulls#list-pull-requests\n",
    "- rate limiting https://docs.github.com/en/rest/overview/resources-in-the-rest-api#rate-limiting\n",
    "\n",
    "Report:\n",
    "- https://datastudio.google.com/reporting/bb1170df-e8a5-479f-b75e-79b1908e9041/page/llcYC/edit\n",
    "\n",
    "Datasources:\n",
    "- https://docs.google.com/spreadsheets/d/1jjLZ-G16RJp4R1mqsdnvlS7y1dlNLdu-eDN-WvNygCA/edit"
   ]
  },
  {
   "cell_type": "code",
   "execution_count": null,
   "metadata": {},
   "outputs": [],
   "source": [
    "# install deps (TODO add to requirements.txt when is done)\n",
    "!pip install --upgrade requests gspread google-api-python-client google-auth-httplib2 google-auth-oauthlib pandas"
   ]
  },
  {
   "cell_type": "code",
   "execution_count": null,
   "metadata": {},
   "outputs": [],
   "source": [
    "import os\n",
    "import requests\n",
    "from pprint import pprint"
   ]
  },
  {
   "cell_type": "code",
   "execution_count": null,
   "metadata": {},
   "outputs": [],
   "source": [
    "# gspreed\n",
    "import gspread\n",
    "\n",
    "#!pip install --upgrade google-api-python-client google-auth-httplib2 google-auth-oauthlib\n",
    "\n",
    "from google.oauth2 import service_account\n",
    "import pandas as pd"
   ]
  },
  {
   "cell_type": "code",
   "execution_count": null,
   "metadata": {},
   "outputs": [],
   "source": [
    "base_url=\"https://api.github.com\"\n",
    "\n",
    "client_id=os.getenv('GH_CLIENT_ID')\n",
    "client_secret=os.getenv('GH_CLIENT_SECRET')\n",
    "\n",
    "a_cid=(f\"client_id={client_id}\")\n",
    "a_csec=(f\"client_secret={client_secret}\")"
   ]
  },
  {
   "cell_type": "code",
   "execution_count": null,
   "metadata": {},
   "outputs": [],
   "source": [
    "gce_sheet_scopes = [\n",
    "    \"https://www.googleapis.com/auth/spreadsheets\",\n",
    "    \"https://www.googleapis.com/auth/drive\"\n",
    "]\n",
    "gce_sheet_credentials = (\"/home/splat/secrets/credentials.json\")"
   ]
  },
  {
   "cell_type": "code",
   "execution_count": null,
   "metadata": {},
   "outputs": [],
   "source": [
    "def sheet_login():\n",
    "    creds = service_account.Credentials.from_service_account_file(gce_sheet_credentials)\n",
    "    scoped_credentials = creds.with_scopes(gce_sheet_scopes)\n",
    "    gc = gspread.authorize(scoped_credentials)\n",
    "    return gc"
   ]
  },
  {
   "cell_type": "code",
   "execution_count": null,
   "metadata": {},
   "outputs": [],
   "source": [
    "def sheet_reader():\n",
    "    gc = sheet_login()\n",
    "    sheet = gc.open(\"splat-github-insights\")\n",
    "    tab = sheet.worksheet(\"repoContribRole\")\n",
    "    data = tab.get_all_records()\n",
    "    df = pd.DataFrame(data)\n",
    "    return df"
   ]
  },
  {
   "cell_type": "code",
   "execution_count": null,
   "metadata": {},
   "outputs": [],
   "source": [
    "#sheet_reader().T.reset_index().T.values.tolist()"
   ]
  },
  {
   "cell_type": "code",
   "execution_count": null,
   "metadata": {},
   "outputs": [],
   "source": [
    "def sheet_writer(data):\n",
    "    gc = sheet_login()\n",
    "    sh = gc.open(\"splat-github-insights\")\n",
    "    ws = sh.worksheet(\"repoContribRole\")\n",
    "    ws.update(data, value_input_option='USER_ENTERED')"
   ]
  },
  {
   "cell_type": "code",
   "execution_count": null,
   "metadata": {},
   "outputs": [],
   "source": [
    "def find_next_page(link_header):\n",
    "    pagesRef = link_header.split(',')\n",
    "    for ref in pagesRef:\n",
    "        refUrl = ref.split('; ')[0]\n",
    "        refRel = ref.split('; ')[1]\n",
    "        #print(refUrl)\n",
    "        #print(f\"[{refRel}]\")\n",
    "        if refRel != 'rel=\"next\"':\n",
    "            continue\n",
    "        page = refUrl.split(\"page=\")[1].split('>')[0]\n",
    "        return page\n",
    "    return None"
   ]
  },
  {
   "cell_type": "code",
   "execution_count": null,
   "metadata": {},
   "outputs": [],
   "source": [
    "def get_pulls_from_repo(org_name=None, repo_name=None, page=None):\n",
    "    url = (f\"{base_url}/repos/{org_name}/{repo_name}/pulls?{a_cid}&{a_csec}\")\n",
    "    if page:\n",
    "        url = (f\"{url}&page={page}\")\n",
    "    \n",
    "    try:\n",
    "        resp = requests.get(url)\n",
    "    except:\n",
    "        print(\"get_pulls_from_repo() e1\")\n",
    "        raise\n",
    "    \n",
    "    try:\n",
    "        respData = resp.json()\n",
    "    except:\n",
    "        print(\"get_pulls_from_repo() e2\")\n",
    "        raise\n",
    "    \n",
    "    # extract page\n",
    "    try:\n",
    "        if 'Link' not in resp.headers:\n",
    "            return respData, None\n",
    "        page = find_next_page(resp.headers['Link'])\n",
    "        return respData, page\n",
    "    except:\n",
    "        raise"
   ]
  },
  {
   "cell_type": "code",
   "execution_count": null,
   "metadata": {},
   "outputs": [],
   "source": [
    "def get_repo(org_name=None, repo_name=None):\n",
    "    repo_pulls = []\n",
    "    page = None\n",
    "    while True:\n",
    "        print(f\"repo_pulls {len(repo_pulls)}, page={page}\")\n",
    "        pulls, page = get_pulls_from_repo(org_name, repo_name, page)\n",
    "        \n",
    "        print(pulls, page)\n",
    "        if 'message' in pulls:\n",
    "            if 'API rate limit exceeded' in pulls['message']:\n",
    "                print(\"ERROR - rate limited: \")\n",
    "                print(pulls)\n",
    "                break\n",
    "        repo_pulls = repo_pulls + pulls\n",
    "\n",
    "        if page is None:\n",
    "            break\n",
    "\n",
    "    return repo_pulls"
   ]
  },
  {
   "cell_type": "code",
   "execution_count": null,
   "metadata": {},
   "outputs": [],
   "source": [
    "def get_users_asoc(results):\n",
    "    user_assoc = {}\n",
    "    user_assoc_sum = {}\n",
    "    for i in results:\n",
    "        #print(i['number'], i['state'], i['user']['login'], i['author_association'])\n",
    "        try:\n",
    "            user_assoc[i['author_association']].append(i['user']['login'])\n",
    "        except KeyError:\n",
    "            user_assoc[i['author_association']] = []\n",
    "            user_assoc[i['author_association']].append(i['user']['login'])\n",
    "            pass\n",
    "        except:\n",
    "            raise\n",
    "    for ua in user_assoc.keys():\n",
    "        perc = (len(user_assoc[ua]) / len(repo_pulls) ) * 100\n",
    "        #print(f\"{ua} = {} ({ perc }% )\")\n",
    "        user_assoc_sum[ua] = {\n",
    "            \"name\": ua,\n",
    "            \"total\": len(user_assoc[ua]),\n",
    "            \"perc\": perc\n",
    "        }\n",
    "    return user_assoc, user_assoc_sum"
   ]
  },
  {
   "cell_type": "code",
   "execution_count": null,
   "metadata": {},
   "outputs": [],
   "source": []
  },
  {
   "cell_type": "markdown",
   "metadata": {},
   "source": [
    "## Getting data"
   ]
  },
  {
   "cell_type": "code",
   "execution_count": null,
   "metadata": {},
   "outputs": [],
   "source": [
    "sheet_data = [[\n",
    "    \"ORG\", \"PROJECT\", \"ROLE\", \"USERNAME\"\n",
    "]]"
   ]
  },
  {
   "cell_type": "code",
   "execution_count": null,
   "metadata": {},
   "outputs": [],
   "source": [
    "def collect_repo_pulls_open(org_name, repo_name):\n",
    "    repo_pulls = get_repo(org_name, repo_name)\n",
    "    users_assoc, ua_sum = get_users_asoc(repo_pulls)\n",
    "    pprint(ua_sum)\n",
    "    for ua in users_assoc.keys():\n",
    "        for user in users_assoc[ua]:\n",
    "            sheet_data.append([\n",
    "                org_name, repo_name, ua, user\n",
    "            ])"
   ]
  },
  {
   "cell_type": "code",
   "execution_count": null,
   "metadata": {},
   "outputs": [],
   "source": []
  },
  {
   "cell_type": "code",
   "execution_count": null,
   "metadata": {},
   "outputs": [],
   "source": [
    "org_name=\"openshift\"\n",
    "repo_name=\"installer\"\n",
    "collect_repo_pulls_open(org_name, repo_name)"
   ]
  },
  {
   "cell_type": "code",
   "execution_count": null,
   "metadata": {},
   "outputs": [],
   "source": []
  },
  {
   "cell_type": "code",
   "execution_count": null,
   "metadata": {},
   "outputs": [],
   "source": [
    "org_name=\"openshift\"\n",
    "repo_name=\"openshift-docs\"\n",
    "collect_repo_pulls_open(org_name, repo_name)"
   ]
  },
  {
   "cell_type": "code",
   "execution_count": null,
   "metadata": {},
   "outputs": [],
   "source": []
  },
  {
   "cell_type": "code",
   "execution_count": null,
   "metadata": {},
   "outputs": [],
   "source": [
    "org_name=\"kubernetes-sigs\"\n",
    "repo_name=\"cloud-provider-azure\"\n",
    "collect_repo_pulls_open(org_name, repo_name)"
   ]
  },
  {
   "cell_type": "code",
   "execution_count": null,
   "metadata": {},
   "outputs": [],
   "source": []
  },
  {
   "cell_type": "code",
   "execution_count": null,
   "metadata": {},
   "outputs": [],
   "source": [
    "org_name=\"kubernetes\"\n",
    "repo_name=\"kubernetes\"\n",
    "collect_repo_pulls_open(org_name, repo_name)"
   ]
  },
  {
   "cell_type": "code",
   "execution_count": null,
   "metadata": {},
   "outputs": [],
   "source": []
  },
  {
   "cell_type": "code",
   "execution_count": null,
   "metadata": {},
   "outputs": [],
   "source": [
    "org_name=\"kubernetes-sigs\"\n",
    "repo_name=\"kustomize\"\n",
    "collect_repo_pulls_open(org_name, repo_name)"
   ]
  },
  {
   "cell_type": "code",
   "execution_count": null,
   "metadata": {},
   "outputs": [],
   "source": []
  },
  {
   "cell_type": "code",
   "execution_count": null,
   "metadata": {},
   "outputs": [],
   "source": [
    "org_name=\"openshift\"\n",
    "repo_name=\"console\"\n",
    "collect_repo_pulls_open(org_name, repo_name)"
   ]
  },
  {
   "cell_type": "code",
   "execution_count": null,
   "metadata": {},
   "outputs": [],
   "source": [
    "# Write to gsheet\n",
    "sheet_writer(sheet_data)"
   ]
  },
  {
   "cell_type": "code",
   "execution_count": null,
   "metadata": {},
   "outputs": [],
   "source": []
  }
 ],
 "metadata": {
  "kernelspec": {
   "display_name": "Python 3",
   "language": "python",
   "name": "python3"
  },
  "language_info": {
   "codemirror_mode": {
    "name": "ipython",
    "version": 3
   },
   "file_extension": ".py",
   "mimetype": "text/x-python",
   "name": "python",
   "nbconvert_exporter": "python",
   "pygments_lexer": "ipython3",
   "version": "3.8.5"
  }
 },
 "nbformat": 4,
 "nbformat_minor": 4
}
